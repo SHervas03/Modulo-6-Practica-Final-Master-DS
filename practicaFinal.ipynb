{
 "cells": [
  {
   "cell_type": "markdown",
   "metadata": {},
   "source": [
    "# Practica Final\n",
    "Modulo 6 - Máster Data Science y Business Analytics\n",
    "Sergio Hervás Aragón"
   ]
  },
  {
   "cell_type": "markdown",
   "metadata": {},
   "source": [
    "Importaciones"
   ]
  },
  {
   "cell_type": "code",
   "execution_count": 171,
   "metadata": {
    "metadata": {}
   },
   "outputs": [],
   "source": [
    "from pyspark.sql import SparkSession\n",
    "import os\n",
    "from pyspark.sql.functions import split, to_date, explode, round, mean, when, min, max, datediff, months_between, count"
   ]
  },
  {
   "cell_type": "markdown",
   "metadata": {},
   "source": [
    "Al trabajar con pyspark, configuraremos el entorno creando una sesion de Spark"
   ]
  },
  {
   "cell_type": "code",
   "execution_count": 172,
   "metadata": {
    "metadata": {}
   },
   "outputs": [],
   "source": [
    "# master(String master): Establece la dirección URL maestra de Spark a la que se va a conectar\n",
    "# appName(String name): Establece un nombre para la aplicación, que se mostrará en la interfaz de usuario web de Spark.\n",
    "# config(String key, double value): Establece una opción de configuración.\n",
    "# getOrCreate(): Obtiene una SparkSession existente o, si no hay ninguna, crea una nueva uno basado en las opciones establecidas en este constructor.\n",
    "# Configuracion del nivel de registro de Spark para que no muestre los mensajes de advertencia\n",
    "os.environ['PYSPARK_LOG_LEVEL'] = 'ERROR'\n",
    "try:\n",
    "    spark = SparkSession.builder\\\n",
    "        .master('local')\\\n",
    "        .appName('netflix_titles')\\\n",
    "        .config('spark.ui.port', '4050')\\\n",
    "        .config(\"spark.sql.legacy.timeParserPolicy\", \"LEGACY\")\\\n",
    "        .getOrCreate()\n",
    "except Exception as e:\n",
    "    print(f'Ha ocurrido un error: {str(e)}')"
   ]
  },
  {
   "cell_type": "markdown",
   "metadata": {},
   "source": [
    "1.\tLeer todos los csv descomprimidos guardados en la ruta de vuestro tmp en una sola línea de código (pista, usar wildcards para leer más de un fichero a la vez)"
   ]
  },
  {
   "cell_type": "markdown",
   "metadata": {},
   "source": [
    "En primer lugar, procederemos a descarganos los archivos mediante una linea de comandos linux"
   ]
  },
  {
   "cell_type": "code",
   "execution_count": 173,
   "metadata": {},
   "outputs": [
    {
     "name": "stdout",
     "output_type": "stream",
     "text": [
      "El fichero /netflix_titles_dirty_01.csv ya existe\n",
      "El fichero /netflix_titles_dirty_02.csv ya existe\n",
      "El fichero /netflix_titles_dirty_03.csv ya existe\n",
      "El fichero /netflix_titles_dirty_04.csv ya existe\n",
      "El fichero /netflix_titles_dirty_05.csv ya existe\n",
      "El fichero /netflix_titles_dirty_06.csv ya existe\n",
      "El fichero /netflix_titles_dirty_07.csv ya existe\n"
     ]
    }
   ],
   "source": [
    "# Declaro una lista con los archivos de los cuales voy ha hacer uso y me voy a descargar\n",
    "csv_files = [\n",
    "    '/netflix_titles_dirty_01.csv',\n",
    "    '/netflix_titles_dirty_02.csv',\n",
    "    '/netflix_titles_dirty_03.csv',\n",
    "    '/netflix_titles_dirty_04.csv',\n",
    "    '/netflix_titles_dirty_05.csv',\n",
    "    '/netflix_titles_dirty_06.csv',\n",
    "    '/netflix_titles_dirty_07.csv'\n",
    "]\n",
    "\n",
    "# Variable la cual usaremos en un futuro para indicar donde almacenar los archivos de la lista\n",
    "first_ending = '/tmp'\n",
    "# Variable la cual usaremos en un futuro para indicar la manera en la que nos vamos a descargar los archivos de la lista\n",
    "ultimate_termination = '.gz'\n",
    "# Bucle con el que recorreremos la lista\n",
    "for file in csv_files:    \n",
    "    # Declararemos dos variables que nos serviran para validar, si: 1º - Esta descargado el archivo, y 2º - Si el archivo esta descomprimido\n",
    "    compressed_path = first_ending + file + ultimate_termination\n",
    "    decompressed_path = first_ending + file    \n",
    "    # Buscamos el path, y si no existe tanto el comprimido como el descomprimido, lo descargaremos y los descomprimiremos\n",
    "    if not os.path.exists(compressed_path and decompressed_path):\n",
    "        url = f'https://github.com/datacamp/data-cleaning-with-pyspark-live-training/blob/master/data{file}.gz?raw=True'\n",
    "        try:\n",
    "            # Descargamos\n",
    "            ! wget -O $compressed_path $url\n",
    "            # Descomprimimos\n",
    "            ! gunzip $compressed_path\n",
    "        except Exception as e:\n",
    "            print(f'Ha ocurrido un error: {str(e)}')\n",
    "        finally:\n",
    "            print(f'Archivo {file} descargado y descomprimido ')\n",
    "    else:\n",
    "        print(f'El fichero {file} ya existe')"
   ]
  },
  {
   "cell_type": "code",
   "execution_count": 174,
   "metadata": {
    "metadata": {}
   },
   "outputs": [
    {
     "name": "stdout",
     "output_type": "stream",
     "text": [
      "+--------+-----+-------------------+-----------+------------+-------------+-------------+----+-----+------+---------------+-------------------------------------------------------------------------------------------------------------------------------------------------+\n",
      "|_c0     |_c1  |_c2                |_c3        |_c4         |_c5          |_c6          |_c7 |_c8  |_c9   |_c10           |_c11                                                                                                                                             |\n",
      "+--------+-----+-------------------+-----------+------------+-------------+-------------+----+-----+------+---------------+-------------------------------------------------------------------------------------------------------------------------------------------------+\n",
      "|80044126|Movie|D.L. Hughley: Clear|Jay Chapman|D.L. Hughley|United States|July 13, 2017|2014|TV-MA|59 min|Stand-Up Comedy|In this 2014 standup special filmed in San Francisco, comedic genius D.L. Hughley entertains with his hilarious take on current affairs and more.|\n",
      "+--------+-----+-------------------+-----------+------------+-------------+-------------+----+-----+------+---------------+-------------------------------------------------------------------------------------------------------------------------------------------------+\n",
      "only showing top 1 row\n",
      "\n"
     ]
    }
   ],
   "source": [
    "df = spark.read.csv('./../../../tmp/*csv', sep='\\t', header=False)\n",
    "df.show(1, truncate=False)"
   ]
  },
  {
   "cell_type": "markdown",
   "metadata": {},
   "source": [
    "2.\tAnaliza las columnas y renómbralos con un nombre que tenga sentido para cada una"
   ]
  },
  {
   "cell_type": "code",
   "execution_count": 175,
   "metadata": {},
   "outputs": [
    {
     "name": "stdout",
     "output_type": "stream",
     "text": [
      "+--------+-----+-------------------+-----------+------------+-------------+-------------+----+------------------+--------+---------------+--------------------+\n",
      "|      id| type|         movie_name|   director|      actors|      country| release_date|year|age_classification|duration|         gender|         description|\n",
      "+--------+-----+-------------------+-----------+------------+-------------+-------------+----+------------------+--------+---------------+--------------------+\n",
      "|80044126|Movie|D.L. Hughley: Clear|Jay Chapman|D.L. Hughley|United States|July 13, 2017|2014|             TV-MA|  59 min|Stand-Up Comedy|In this 2014 stan...|\n",
      "+--------+-----+-------------------+-----------+------------+-------------+-------------+----+------------------+--------+---------------+--------------------+\n",
      "only showing top 1 row\n",
      "\n"
     ]
    }
   ],
   "source": [
    "# Declaro una lista que contendran los nombres de las columnas nuevas las cuales van a ser las que van a dar nombre a cada columna\n",
    "columsNames = ['id','type','movie_name','director','actors','country','release_date','year','age_classification','duration','gender','description']\n",
    "\n",
    "for item in range(len(columsNames)):\n",
    "    # Reemplazo con el bucle, en primera posicion, el nombre de la columba original, y en segunda posicion el nuevo nombre\n",
    "    df = df.withColumnRenamed(f'_c{item}', columsNames[item])\n",
    "    \n",
    "df.show(1)"
   ]
  },
  {
   "cell_type": "markdown",
   "metadata": {},
   "source": [
    "3.\tLimpia el dataframe para que no existan nulos, adicionalmente elimina todos los valores que no se correspondan con el resto de datos de la columna"
   ]
  },
  {
   "cell_type": "code",
   "execution_count": 176,
   "metadata": {},
   "outputs": [],
   "source": [
    "# Declaremos un metodo que nos servira para ver cuantos nulos hay por columnas en nuestro df\n",
    "def counts_off_nulls_spark(columsNames, df):\n",
    "    print('Conteo de nulos por columnas:')\n",
    "    for columns_name in columsNames:\n",
    "        # Recorro el array de mis columnas filtrando por nombre de las columnas los valores que son nulos, y haciendo un conteo de estos\n",
    "        number_nulls_columns = df.filter(df[columns_name].isNull()).count()\n",
    "        print(f'\\t{columns_name}: {number_nulls_columns} nulls number')\n",
    "    "
   ]
  },
  {
   "cell_type": "code",
   "execution_count": 177,
   "metadata": {},
   "outputs": [
    {
     "name": "stdout",
     "output_type": "stream",
     "text": [
      "Conteo de nulos por columnas:\n",
      "\tid: 2 nulls number\n",
      "\ttype: 59 nulls number\n",
      "\tmovie_name: 64 nulls number\n",
      "\tdirector: 2012 nulls number\n",
      "\tactors: 629 nulls number\n",
      "\tcountry: 537 nulls number\n",
      "\trelease_date: 80 nulls number\n",
      "\tyear: 74 nulls number\n",
      "\tage_classification: 84 nulls number\n",
      "\tduration: 76 nulls number\n",
      "\tgender: 83 nulls number\n",
      "\tdescription: 86 nulls number\n",
      "Conteo de nulos por columnas:\n",
      "\tid: 0 nulls number\n",
      "\ttype: 0 nulls number\n",
      "\tmovie_name: 0 nulls number\n",
      "\tdirector: 0 nulls number\n",
      "\tactors: 0 nulls number\n",
      "\tcountry: 0 nulls number\n",
      "\trelease_date: 0 nulls number\n",
      "\tyear: 0 nulls number\n",
      "\tage_classification: 0 nulls number\n",
      "\tduration: 0 nulls number\n",
      "\tgender: 0 nulls number\n",
      "\tdescription: 0 nulls number\n"
     ]
    }
   ],
   "source": [
    "# Funcion que nos realiza un conteo de nulos antes de eliminarlos\n",
    "counts_off_nulls_spark(columsNames,df)\n",
    "# Eliminamos los nulos\n",
    "df = df.dropna()\n",
    "# Funcion que nos realiza un conteo de nulos despues de eliminarlos\n",
    "counts_off_nulls_spark(columsNames,df)"
   ]
  },
  {
   "cell_type": "code",
   "execution_count": 178,
   "metadata": {},
   "outputs": [
    {
     "data": {
      "text/plain": [
       "3699"
      ]
     },
     "execution_count": 178,
     "metadata": {},
     "output_type": "execute_result"
    }
   ],
   "source": [
    "df.count()"
   ]
  },
  {
   "cell_type": "markdown",
   "metadata": {},
   "source": [
    "4.\tRevisa el tipo de dato de cada columna y parsealo según corresponda (la columna duración debe ser numérico)"
   ]
  },
  {
   "cell_type": "code",
   "execution_count": 179,
   "metadata": {},
   "outputs": [
    {
     "name": "stdout",
     "output_type": "stream",
     "text": [
      "Parseo de fecha finalizado\n",
      "Parseo de enteros finalizado\n",
      "Parseo de fechas finalizado\n",
      "root\n",
      " |-- id: integer (nullable = true)\n",
      " |-- type: string (nullable = true)\n",
      " |-- movie_name: string (nullable = true)\n",
      " |-- director: string (nullable = true)\n",
      " |-- actors: string (nullable = true)\n",
      " |-- country: string (nullable = true)\n",
      " |-- release_date: date (nullable = true)\n",
      " |-- year: integer (nullable = true)\n",
      " |-- age_classification: string (nullable = true)\n",
      " |-- gender: string (nullable = true)\n",
      " |-- description: string (nullable = true)\n",
      " |-- time_duration: integer (nullable = true)\n",
      " |-- type_duration: string (nullable = true)\n",
      "\n",
      "+--------+-------+---------------------------------+------------------------+----------------------------------------------------------------------------------------------------------------------------------------------------------------------------------------------------------------------------------------------------------------------------------------------------+--------------------------------------+------------+----+------------------+--------------------------------------------------------------+-------------------------------------------------------------------------------------------------------------------------------------------------------+-------------+-------------+\n",
      "|id      |type   |movie_name                       |director                |actors                                                                                                                                                                                                                                                                                              |country                               |release_date|year|age_classification|gender                                                        |description                                                                                                                                            |time_duration|type_duration|\n",
      "+--------+-------+---------------------------------+------------------------+----------------------------------------------------------------------------------------------------------------------------------------------------------------------------------------------------------------------------------------------------------------------------------------------------+--------------------------------------+------------+----+------------------+--------------------------------------------------------------+-------------------------------------------------------------------------------------------------------------------------------------------------------+-------------+-------------+\n",
      "|80044126|Movie  |D.L. Hughley: Clear              |Jay Chapman             |D.L. Hughley                                                                                                                                                                                                                                                                                        |United States                         |2017-07-13  |2014|TV-MA             |Stand-Up Comedy                                               |In this 2014 standup special filmed in San Francisco, comedic genius D.L. Hughley entertains with his hilarious take on current affairs and more.      |59           |min          |\n",
      "|80148179|Movie  |My Scientology Movie             |John Dower              |Louis Theroux                                                                                                                                                                                                                                                                                       |United Kingdom                        |2017-07-13  |2015|TV-MA             |Documentaries                                                 |After speaking with former Scientology members and being stonewalled by higher-ups, filmmaker Louis Theroux hires actors to re-create alleged events.  |99           |min          |\n",
      "|70301023|Movie  |Tom Segura: Completely Normal    |Jay Chapman             |Tom Segura                                                                                                                                                                                                                                                                                          |United States                         |2017-07-13  |2014|TV-MA             |Stand-Up Comedy                                               |Levelheaded stand-up Tom Segura shares offhand appraisals on hotels and opens up about his hobbies and digestive ailments in this comedy special.      |74           |min          |\n",
      "|80221109|Movie  |4L                               |Gerardo Olivares        |Jean Reno, Hovik Keuchkerian, Susana Abaitua, Juan Dos Santos, Arturo Valls, Enrique San Francisco, Francesc Garrido, Eric Nguyen                                                                                                                                                                   |Spain                                 |2019-07-12  |2019|TV-MA             |Comedies, Dramas, Independent Movies                          |Hoping to reunite with a dying friend, two longtime pals re-create their desert road trip from Spain to Mali, bringing along his estranged daughter.   |105          |min          |\n",
      "|81145271|Movie  |Black & Privileged: Volume 1     |Mark Harris             |Dawnisha Halfkenny, Simeon Henderson, Corey Hendrix, Malcom Banks, Nadia Simms, Brian White, Brely Evans, Cynda Williams, Carl Anthony Payne II                                                                                                                                                     |United States                         |2019-07-12  |2019|TV-MA             |Dramas                                                        |When low-income families move into a thriving black community in Chicago, they find themselves at odds with politicians to maintain their status.      |79           |min          |\n",
      "|81024041|Movie  |Cities of Last Things            |Wi Ding Ho              |Jack Kao, Lee Hong-chi, Louise Grinberg, Huang Lu, Ding Ning                                                                                                                                                                                                                                        |Taiwan, China, France, United States  |2019-07-12  |2018|TV-MA             |Dramas, Independent Movies, International Movies              |In a dystopian tale unfolding in reverse chronology, a man with a complicated past takes revenge on the individuals who wronged him decades ago.       |106          |min          |\n",
      "|81044248|Movie  |Kidnapping Stella                |Thomas Sieben           |Max von der Groeben, Jella Haase, Clemens Schick                                                                                                                                                                                                                                                    |Germany                               |2019-07-12  |2019|TV-MA             |Dramas, International Movies, Thrillers                       |Snatched off the street and held for ransom, a bound and gagged woman uses her limited powers to derail her two masked abductors' carefully laid plans.|90           |min          |\n",
      "|80221677|Movie  |Point Blank                      |Joe Lynch               |Frank Grillo, Anthony Mackie, Marcia Gay Harden, Teyonah Parris, Boris McGiver, Christian Cooke, Markice Moore                                                                                                                                                                                      |France, United States                 |2019-07-12  |2019|TV-MA             |Action & Adventure                                            |To save his pregnant wife, an emergency room nurse unwillingly partners with an injured murder suspect in a race against time and renegade cops.       |87           |min          |\n",
      "|70084221|Movie  |Smart People                     |Noam Murro              |Dennis Quaid, Sarah Jessica Parker, Thomas Haden Church, Ellen Page, Ashton Holmes, Christine Lahti, Camille Mana, David Denman, Don Wadsworth, Robert Haley                                                                                                                                        |United States                         |2019-07-12  |2008|R                 |Comedies, Dramas, Independent Movies                          |An unexpected romance and a surprise visit from his wild brother turn the life of widowed professor Lawrence Wetherhold upside down.                   |95           |min          |\n",
      "|80120200|TV Show|Gonul                            |Neslihan Yesilyurt      |Gökçe Bahadır, Engin Öztürk, Onur Saylak                                                                                                                                                                                                                                                            |Turkey                                |2017-07-12  |2015|TV-14             |International TV Shows, TV Dramas, TV Thrillers               |A nurse escapes from her surgeon fiancé after his ex reveals his dark secrets. She later finds love again, but a car accident changes everything.      |1            |Season       |\n",
      "|80180224|Movie  |Us and Them                      |Joseph Martin           |Jack Roth, Tim Bentinck, Daniel Kendrick, Sophie Colquhoun, Paul Westwood, Carolyn Backhouse, Louis Dempsey, Andrew Tiernan                                                                                                                                                                         |United Kingdom                        |2018-07-11  |2017|TV-MA             |Dramas, International Movies, Thrillers                       |Tired of his lot in life, an angry young man persuades two of his pub buddies to record a home invasion as a protest against the \"one percent\".        |83           |min          |\n",
      "|70299904|Movie  |The Battered Bastards of Baseball|Chapman Way, Maclain Way|Todd Field, Kurt Russell                                                                                                                                                                                                                                                                            |United States                         |2014-07-11  |2014|NR                |Documentaries, Sports Movies                                  |The colorful true story of the Portland Mavericks, a scrappy, independent baseball team of underdogs started by actor Bing Russell in the 1970s.       |80           |min          |\n",
      "|80171125|Movie  |Sex Doll                         |Sylvie Verheyde         |Hafsia Herzi, Ash Stymest, Karole Rocher, Paul Hamy, Ira Max, Lindsay Karamoh, Myriam Djeljeli                                                                                                                                                                                                      |United Kingdom, France                |2017-07-10  |2016|UR                |Dramas, International Movies, Romantic Movies                 |A high-end call girl falls for a handsome man she meets at a nightclub, but he harbors a secret that throws a wrench in their relationship.            |103          |min          |\n",
      "|80106989|Movie  |Summer of '92                    |Kasper Barfoed          |Ulrich Thomsen, Henning Jensen, Mikkel Boe Følsgaard, Cyron Melville, Esben Smed Jensen, Gustav Dyekjaer Giese, Jon Lange, Allan Hyde, Johannes Lassen, Morten Vang Simonsen                                                                                                                        |Denmark, United Kingdom               |2016-07-10  |2015|NR                |Dramas, International Movies, Sports Movies                   |When a quirk of fate kicks the Danish national soccer team into the European Championship final, the coach must whip his unprepared squad into shape.  |94           |min          |\n",
      "|80044731|Movie  |Chris Tucker Live                |Phil Joanou             |Chris Tucker                                                                                                                                                                                                                                                                                        |United States                         |2015-07-10  |2015|TV-MA             |Stand-Up Comedy                                               |Filmed in his hometown of Atlanta, Chris Tucker showcases his stand-up comedic chops as he shares his experiences from childhood to the big time.      |92           |min          |\n",
      "|60010069|Movie  |Alice Doesn't Live Here Anymore  |Martin Scorsese         |Ellen Burstyn, Kris Kristofferson, Billy Green Bush, Diane Ladd, Harvey Keitel, Lelia Goldoni, Lane Bradbury, Vic Tayback, Jodie Foster, Alfred Lutter                                                                                                                                              |United States                         |2019-07-01  |1974|PG                |Classic Movies, Comedies, Dramas                              |A widowed singer and single mother starts over as a diner waitress in Arizona, befriending her coworkers and romancing a ruggedly handsome rancher.    |112          |min          |\n",
      "|70084148|Movie  |Frozen River                     |Courtney Hunt           |Melissa Leo, Misty Upham, Charlie McDermott, Michael O'Keefe, Mark Boone Junior, James Reilly, Jay Klaitz, John Canoe, Dylan Carusona, Michael Sky                                                                                                                                                  |United States                         |2019-07-01  |2008|R                 |Dramas, Independent Movies                                    |On a Mohawk reservation on the Canadian border, Ray Eddy teams with a widowed tribe member to smuggle illegal immigrants into the United States.       |97           |min          |\n",
      "|70101345|Movie  |Inkheart                         |Iain Softley            |Brendan Fraser, Paul Bettany, Helen Mirren, Jim Broadbent, Andy Serkis, Sienna Guillory, Eliza Bennett, Rafi Gavron, Lesley Sharp, Jamie Foreman                                                                                                                                                    |Germany, United Kingdom, United States|2019-07-01  |2008|PG                |Action & Adventure, Children & Family Movies, Sci-Fi & Fantasy|Unbeknownst to his 12-year-old daughter, a bookbinder has a secret ability to bring characters to life by reading their stories out loud.              |106          |min          |\n",
      "|80238020|Movie  |Katherine Ryan: Glitter Room     |Linda Mendoza           |Katherine Ryan                                                                                                                                                                                                                                                                                      |United States                         |2019-07-01  |2019|TV-MA             |Stand-Up Comedy                                               |Fresh from a tour, comedian Katherine Ryan shares shrewd observations about school bullies, revenge bodies and raising a very fancy child.             |66           |min          |\n",
      "|70128697|Movie  |Kill the Irishman                |Jonathan Hensleigh      |Ray Stevenson, Vincent D'Onofrio, Val Kilmer, Christopher Walken, Linda Cardellini, Fionnula Flanagan, Jason Butler Harner, Vinnie Jones, Paul Sorvino, Marcus Thomas, Tony Darrow, Jim Gaffigan, Jeremy Davies, Emma Roberts, Viola Davis, Lauren Graham, Zoë Kravitz, Aasif Mandvi, Keir Gilchrist|United States                         |2019-07-01  |2011|R                 |Action & Adventure, Dramas, Independent Movies                |This true crime tale charts the rise and fall of mobster Danny Greene, who faced down the Mafia to gain control of organized crime in 1970s Cleveland. |106          |min          |\n",
      "+--------+-------+---------------------------------+------------------------+----------------------------------------------------------------------------------------------------------------------------------------------------------------------------------------------------------------------------------------------------------------------------------------------------+--------------------------------------+------------+----+------------------+--------------------------------------------------------------+-------------------------------------------------------------------------------------------------------------------------------------------------------+-------------+-------------+\n",
      "only showing top 20 rows\n",
      "\n"
     ]
    }
   ],
   "source": [
    "try:\n",
    "    # Realizamos primeramente un arreglo de la columna duracion, donde separaremos el contenido mediente el espacio formando dos\n",
    "    # columnas con la respectiva información, y elimaremos la columna original\n",
    "    if 'duration' in df.columns:\n",
    "        df = df.\\\n",
    "            withColumn('time_duration', split(df['duration'], ' ')[0]).\\\n",
    "            withColumn('type_duration', split(df['duration'], ' ')[1]).\\\n",
    "            drop('duration')\n",
    "except Exception as e:\n",
    "    print(f'Ha ocurrido un error: {str(e)}')\n",
    "finally:\n",
    "    print(f'Parseo de fecha finalizado')\n",
    "    \n",
    "try:\n",
    "# Una vez todas las columnas como queremos, procedemos al parseo de la información, emprezando por los enteros (id, year, time_duration)\n",
    "    df = df.\\\n",
    "        withColumn('id', df['id'].cast('int')).\\\n",
    "        withColumn('year', df['year'].cast('int')).\\\n",
    "        withColumn('time_duration', df['time_duration'].cast('int'))\n",
    "except Exception as e:\n",
    "    print(f'Ha ocurrido un error: {str(e)}')\n",
    "finally:\n",
    "    print(f'Parseo de enteros finalizado')\n",
    "    \n",
    "try:\n",
    "    # Seguidamente procederemos al parseo de la información en tipo Date (release_date)\n",
    "    df = df.withColumn(\"release_date\", to_date(df['release_date'], 'MMMM dd, yyyy'))\n",
    "except Exception as e:\n",
    "    print(f'Ha ocurrido un error: {str(e)}')\n",
    "finally:\n",
    "    print(f'Parseo de fechas finalizado')\n",
    "    \n",
    "df.printSchema()\n",
    "df.show(truncate=False)"
   ]
  },
  {
   "cell_type": "markdown",
   "metadata": {},
   "source": [
    "5.\tCalcula la duración media en función del país"
   ]
  },
  {
   "cell_type": "code",
   "execution_count": 180,
   "metadata": {},
   "outputs": [
    {
     "name": "stdout",
     "output_type": "stream",
     "text": [
      "+------------------+--------------+--------------+\n",
      "|           country|season_average|movie_stocking|\n",
      "+------------------+--------------+--------------+\n",
      "|         Guatemala|          NULL|          69.0|\n",
      "|              Iraq|          NULL|          76.0|\n",
      "|            Panama|          NULL|          81.0|\n",
      "|Dominican Republic|          NULL|          81.0|\n",
      "|          Colombia|           1.0|          83.0|\n",
      "|       Afghanistan|          NULL|          84.0|\n",
      "|    Cayman Islands|          NULL|          86.0|\n",
      "|         Sri Lanka|          NULL|          87.0|\n",
      "|      Saudi Arabia|          NULL|          88.0|\n",
      "|          Portugal|          NULL|          89.5|\n",
      "|            Jordan|          NULL|          90.5|\n",
      "|         Argentina|          NULL|          91.0|\n",
      "|            Mexico|           1.0|         91.32|\n",
      "|             Chile|          NULL|         91.89|\n",
      "|           Uruguay|          NULL|          92.4|\n",
      "|             Ghana|          NULL|          92.5|\n",
      "|           Ireland|           1.0|         92.79|\n",
      "|            Canada|           1.8|         93.53|\n",
      "|     United States|          2.79|         93.73|\n",
      "|           Ecuador|          NULL|          94.0|\n",
      "+------------------+--------------+--------------+\n",
      "only showing top 20 rows\n",
      "\n"
     ]
    }
   ],
   "source": [
    "# Previo al tratamiento de la información, realizamos una visualización de los elementos unicos por columna.\n",
    "unique_values_of_type_duration = df.select('type_duration').distinct()\n",
    "unique_values_of_country = df.select('country').distinct()\n",
    "# unique_values_of_type_duration.show(truncate=False)\n",
    "# unique_values_of_country.show(truncate=False)\n",
    "\n",
    "# Tras visualizar que hay varias ciudades por registro, las separamos (explide) entre si reproduciendo sus valores por cada registro\n",
    "unique_countries = df.withColumn('country', explode(split(df['country'], ', ')).alias('unique_countries'))\n",
    "# unique_countries.show()\n",
    "\n",
    "# Realizamos la duracion media en funcion de cada pais, donde agruparemos por temporadas y minutos\n",
    "average_duration_by_country = unique_countries.groupBy('country').agg(\\\n",
    "    # redondeo de 2 decimales (round), de la media (mean), cuando tenemos el tipo que queremos (when)\n",
    "    round(mean(when((df['type_duration'] == 'Season') | (df['type_duration'] == 'Seasons'), df['time_duration'])), 2).alias('season_average'),\\\n",
    "    round(mean(when(df['type_duration'] == 'min', df['time_duration'])), 2).alias('movie_stocking'))\n",
    "average_duration_by_country.orderBy('movie_stocking', ascending=True).show()\n",
    "\n"
   ]
  },
  {
   "cell_type": "markdown",
   "metadata": {},
   "source": [
    "6.\tFiltra las películas y series que contengan la palabra music en su descripción y que su duración sea mayor a 90 minutos, ¿cuál es el actor que más películas y series ha realizado bajo estas condiciones?"
   ]
  },
  {
   "cell_type": "code",
   "execution_count": 181,
   "metadata": {},
   "outputs": [
    {
     "name": "stdout",
     "output_type": "stream",
     "text": [
      "+------------------+-----+\n",
      "|            actors|count|\n",
      "+------------------+-----+\n",
      "|    Note Chern-Yim|    2|\n",
      "|     Divyadarshini|    2|\n",
      "|           Vineeth|    2|\n",
      "|       Divya Dutta|    2|\n",
      "|         Kumaravel|    2|\n",
      "|   Michelle Buteau|    2|\n",
      "|      Quincy Jones|    2|\n",
      "|      Ravi Prakash|    2|\n",
      "|     Nedumudi Venu|    2|\n",
      "| Aparna Balamurali|    2|\n",
      "|            Sumesh|    2|\n",
      "|G.V. Prakash Kumar|    2|\n",
      "|       Jordi Mollà|    1|\n",
      "|    Vincent Piazza|    1|\n",
      "|      Wayne Kramer|    1|\n",
      "|       Maris Racal|    1|\n",
      "|     John Travolta|    1|\n",
      "|   Graham Phillips|    1|\n",
      "|    Jun Lang Huang|    1|\n",
      "|   Ezzat Abou Aouf|    1|\n",
      "+------------------+-----+\n",
      "only showing top 20 rows\n",
      "\n"
     ]
    }
   ],
   "source": [
    "leak = df.filter((df['description'].like('%music%')) & (df['time_duration'] > 90))\n",
    "# leak.show(truncate=False)\n",
    "\n",
    "separation_of_actors = leak.withColumn('actors', explode(split(df['actors'], ', ')))\n",
    "\n",
    "filtered_by_actors = separation_of_actors.groupBy('actors').count().orderBy('count', ascending=False)\n",
    "# filtered_by_actors.show(1, truncate=False)\n",
    "\n",
    "# print('El actor que cumple las condiciones es', filtered_by_actors.first()['actors'])\n",
    "filtered_by_actors.show()"
   ]
  },
  {
   "cell_type": "markdown",
   "metadata": {},
   "source": [
    "7.\tPara el actor que más producciones ha realizado calcula cuantas semanas han pasado desde su primera producción hasta su última."
   ]
  },
  {
   "cell_type": "code",
   "execution_count": 182,
   "metadata": {},
   "outputs": [
    {
     "name": "stdout",
     "output_type": "stream",
     "text": [
      "De primera producción hasta su última de Anupam Kher han pasado 139 semanas\n"
     ]
    }
   ],
   "source": [
    "# Divido lod actores sin nunguna restricción \n",
    "separation_of_actors_without_conditions = df.withColumn('actors', explode(split(df['actors'], ', ')))\n",
    "# Agrupo los actores y realizo un conteo, el cual ordeno de manera ascendente\n",
    "actor_with_more_productions = separation_of_actors_without_conditions.groupBy('actors').count().orderBy('count', ascending=False)\n",
    "# Obtengo el actor deseado\n",
    "selected_actor = actor_with_more_productions.first()['actors']\n",
    "# A la hora de coger las fechas, buscamos la fila que contiene nuestro actor, y obtenemos de todos los registros donde sale,\n",
    "# el valor minimo y el valor maximo\n",
    "date_range = separation_of_actors_without_conditions.\\\n",
    "    filter(separation_of_actors_without_conditions['actors'] == selected_actor).\\\n",
    "    select(min('release_date'), max('release_date')).first()\n",
    "\n",
    "# Sacamos los dias de diferencia entre la fecha máxima y la mínima\n",
    "days_difference = date_range[1] - date_range[0]\n",
    "# Y divido el resultado entre 7 para recuperar las semanas\n",
    "weeks_between = days_difference/7\n",
    "print(f'De primera producción hasta su última de {selected_actor} han pasado {weeks_between.days} semanas')"
   ]
  },
  {
   "cell_type": "markdown",
   "metadata": {},
   "source": [
    "8.\tTransforma la columna de géneros para que su contenido sea un array con los valores de cada género por registro"
   ]
  },
  {
   "cell_type": "code",
   "execution_count": 183,
   "metadata": {},
   "outputs": [],
   "source": [
    "df = df.withColumn('gender', split(df['gender'], ', '))"
   ]
  },
  {
   "cell_type": "markdown",
   "metadata": {},
   "source": [
    "9.\t¿Cuántas producciones se han realizado en un único país y cuantas tienen 2 o más países?"
   ]
  },
  {
   "cell_type": "code",
   "execution_count": 184,
   "metadata": {},
   "outputs": [
    {
     "name": "stdout",
     "output_type": "stream",
     "text": [
      "Paises con una produccion:3012\n",
      "Paises con varias producciones:666\n"
     ]
    }
   ],
   "source": [
    "# # Divido los paises sin nunguna restricción \n",
    "# separate_countries = df.withColumn('country', explode(split(df['country'], ', ')))\n",
    "\n",
    "# # Hacemos un conteo por cada vez que un pais aparece\n",
    "# production_count = separate_countries.groupBy(\"country\").count()\n",
    "# # Seguidamente realizaremos la distincion, donde pondremos en una columna los que aparezcan en una, y en otra los que aparezcan más de una vez\n",
    "# differentiation = production_count.\\\n",
    "#     withColumn('countries with one registration', when(production_count['count'] == 1, production_count['country'])).\\\n",
    "#     withColumn('countries with more than one registration', when(production_count['count'] > 1, production_count['country']))\n",
    "    \n",
    "# # Me quedo con las 2 columnas en cuestion, donde se puede visualizar lo filtrado\n",
    "# differentiation = differentiation.\\\n",
    "#     select('countries with one registration','countries with more than one registration')\n",
    "\n",
    "# separate_countries.show(truncate=False)\n",
    "\n",
    "\n",
    "# ---------------------------------------------------------------------\n",
    "\n",
    "# Divido los paises sin nunguna restricción \n",
    "separate_countries = df.withColumn('country', explode(split(df['country'], ', ')))\n",
    "\n",
    "# Hacemos un conteo por cada vez que un pais aparece\n",
    "production_count = separate_countries.groupBy(\"movie_name\").agg({'country':'count'})\n",
    "# Seguidamente realizaremos la distincion, donde pondremos en una columna los que aparezcan en una, y en otra los que aparezcan más de una vez\n",
    "\n",
    "\n",
    "single_country_count = production_count.filter(production_count[\"count(country)\"] == 1).count()\n",
    "multiple_country_count = production_count.filter(production_count[\"count(country)\"] > 1).count()\n",
    "\n",
    "print(f'Paises con una produccion:{single_country_count}')\n",
    "print(f'Paises con varias producciones:{multiple_country_count}')"
   ]
  },
  {
   "cell_type": "code",
   "execution_count": 187,
   "metadata": {},
   "outputs": [
    {
     "name": "stdout",
     "output_type": "stream",
     "text": [
      "+--------+-------+--------------------+--------------------+--------------------+--------------------+------------+----+------------------+--------------------+--------------------+-------------+-------------+\n",
      "|      id|   type|          movie_name|            director|              actors|             country|release_date|year|age_classification|              gender|         description|time_duration|type_duration|\n",
      "+--------+-------+--------------------+--------------------+--------------------+--------------------+------------+----+------------------+--------------------+--------------------+-------------+-------------+\n",
      "|80044126|  Movie| D.L. Hughley: Clear|         Jay Chapman|        D.L. Hughley|       United States|  2017-07-13|2014|             TV-MA|   [Stand-Up Comedy]|In this 2014 stan...|           59|          min|\n",
      "|80148179|  Movie|My Scientology Movie|          John Dower|       Louis Theroux|      United Kingdom|  2017-07-13|2015|             TV-MA|     [Documentaries]|After speaking wi...|           99|          min|\n",
      "|70301023|  Movie|Tom Segura: Compl...|         Jay Chapman|          Tom Segura|       United States|  2017-07-13|2014|             TV-MA|   [Stand-Up Comedy]|Levelheaded stand...|           74|          min|\n",
      "|80221109|  Movie|                  4L|    Gerardo Olivares|Jean Reno, Hovik ...|               Spain|  2019-07-12|2019|             TV-MA|[Comedies, Dramas...|Hoping to reunite...|          105|          min|\n",
      "|81145271|  Movie|Black & Privilege...|         Mark Harris|Dawnisha Halfkenn...|       United States|  2019-07-12|2019|             TV-MA|            [Dramas]|When low-income f...|           79|          min|\n",
      "|81024041|  Movie|Cities of Last Th...|          Wi Ding Ho|Jack Kao, Lee Hon...|Taiwan, China, Fr...|  2019-07-12|2018|             TV-MA|[Dramas, Independ...|In a dystopian ta...|          106|          min|\n",
      "|81044248|  Movie|   Kidnapping Stella|       Thomas Sieben|Max von der Groeb...|             Germany|  2019-07-12|2019|             TV-MA|[Dramas, Internat...|Snatched off the ...|           90|          min|\n",
      "|80221677|  Movie|         Point Blank|           Joe Lynch|Frank Grillo, Ant...|France, United St...|  2019-07-12|2019|             TV-MA|[Action & Adventure]|To save his pregn...|           87|          min|\n",
      "|70084221|  Movie|        Smart People|          Noam Murro|Dennis Quaid, Sar...|       United States|  2019-07-12|2008|                 R|[Comedies, Dramas...|An unexpected rom...|           95|          min|\n",
      "|80120200|TV Show|               Gonul|  Neslihan Yesilyurt|Gökçe Bahadır, En...|              Turkey|  2017-07-12|2015|             TV-14|[International TV...|A nurse escapes f...|            1|       Season|\n",
      "|80180224|  Movie|         Us and Them|       Joseph Martin|Jack Roth, Tim Be...|      United Kingdom|  2018-07-11|2017|             TV-MA|[Dramas, Internat...|Tired of his lot ...|           83|          min|\n",
      "|70299904|  Movie|The Battered Bast...|Chapman Way, Macl...|Todd Field, Kurt ...|       United States|  2014-07-11|2014|                NR|[Documentaries, S...|The colorful true...|           80|          min|\n",
      "|80171125|  Movie|            Sex Doll|     Sylvie Verheyde|Hafsia Herzi, Ash...|United Kingdom, F...|  2017-07-10|2016|                UR|[Dramas, Internat...|A high-end call g...|          103|          min|\n",
      "|80106989|  Movie|       Summer of '92|      Kasper Barfoed|Ulrich Thomsen, H...|Denmark, United K...|  2016-07-10|2015|                NR|[Dramas, Internat...|When a quirk of f...|           94|          min|\n",
      "|80044731|  Movie|   Chris Tucker Live|         Phil Joanou|        Chris Tucker|       United States|  2015-07-10|2015|             TV-MA|   [Stand-Up Comedy]|Filmed in his hom...|           92|          min|\n",
      "|60010069|  Movie|Alice Doesn't Liv...|     Martin Scorsese|Ellen Burstyn, Kr...|       United States|  2019-07-01|1974|                PG|[Classic Movies, ...|A widowed singer ...|          112|          min|\n",
      "|70084148|  Movie|        Frozen River|       Courtney Hunt|Melissa Leo, Mist...|       United States|  2019-07-01|2008|                 R|[Dramas, Independ...|On a Mohawk reser...|           97|          min|\n",
      "|70101345|  Movie|            Inkheart|        Iain Softley|Brendan Fraser, P...|Germany, United K...|  2019-07-01|2008|                PG|[Action & Adventu...|Unbeknownst to hi...|          106|          min|\n",
      "|80238020|  Movie|Katherine Ryan: G...|       Linda Mendoza|      Katherine Ryan|       United States|  2019-07-01|2019|             TV-MA|   [Stand-Up Comedy]|Fresh from a tour...|           66|          min|\n",
      "|70128697|  Movie|   Kill the Irishman|  Jonathan Hensleigh|Ray Stevenson, Vi...|       United States|  2019-07-01|2011|                 R|[Action & Adventu...|This true crime t...|          106|          min|\n",
      "+--------+-------+--------------------+--------------------+--------------------+--------------------+------------+----+------------------+--------------------+--------------------+-------------+-------------+\n",
      "only showing top 20 rows\n",
      "\n"
     ]
    }
   ],
   "source": [
    "df.show()"
   ]
  },
  {
   "cell_type": "markdown",
   "metadata": {},
   "source": [
    "10.\tEscribe el dataframe final como un fichero parquet"
   ]
  },
  {
   "cell_type": "code",
   "execution_count": 185,
   "metadata": {},
   "outputs": [],
   "source": [
    "df.write.format('parquet').mode('overwrite').save('./../../../tmp/parquet/')"
   ]
  },
  {
   "cell_type": "code",
   "execution_count": 186,
   "metadata": {},
   "outputs": [],
   "source": [
    "# spark.stop()"
   ]
  },
  {
   "cell_type": "markdown",
   "metadata": {},
   "source": [
    "# Bibliografía \n",
    "\n",
    " - [Como hacer hipervinculos](https://learn.microsoft.com/es-es/contribute/content/how-to-write-links)\n",
    "\n",
    "#### Apartado 1:\n",
    "\n",
    " - [¿Que son los wildcards?](https://support.microsoft.com/en-us/office/examples-of-wildcard-characters-939e153f-bd30-47e4-a763-61897c87b3f4#:~:text=Wildcards%20are%20special%20characters%20that,named%20John%20on%20Park%20Street.)\n",
    "\n",
    " - [Visualización de la ejecución de mi aplicación netflix_titles en modo local (http://localhost:4050/)](http://localhost:4050/)\n",
    "\n",
    " - [Información del objeto builder](https://spark.apache.org/docs/3.2.0/api/java/org/apache/spark/sql/SparkSession.Builder.html)\n",
    "\n",
    " - [Expansión del patrón de nombres de ruta de estilo Unix (glob)](https://docs.python.org/es/3/library/glob.html)\n",
    "\n",
    " - [path](https://www.guru99.com/es/python-check-if-file-exists.html)\n",
    "\n",
    " - [Ejecutar comandos de shell en Jupyter Notebook](https://blogs.upm.es/estudiaciencia/variables-en-bash/)\n",
    "\n",
    " #### Apartado 2:\n",
    "\n",
    " - [Cambiar el nombre de columnas usando 'withColumnRenamed'](https://www.machinelearningplus.com/pyspark/pyspark-rename-columns/?utm_content=cmp-true)\n",
    "\n",
    " #### Apartado 3:\n",
    "\n",
    " - [pyspark.sql.DataFrame.printSchema](https://spark.apache.org/docs/3.1.1/api/python/reference/api/pyspark.sql.DataFrame.printSchema.html)\n",
    "\n",
    " - [truncate (referencia apartado 11)](https://stackoverflow.com/questions/33742895/how-to-show-full-column-content-in-a-spark-dataframe)\n",
    "\n",
    " #### Apartado 4:\n",
    "\n",
    " - [Cast Column Type With Example](https://sparkbyexamples.com/pyspark/pyspark-cast-column-type/)\n",
    "\n",
    " - [Spark – Split DataFrame single column into multiple columns](https://sparkbyexamples.com/spark/spark-split-dataframe-column-into-multiple-columns/)\n",
    "\n",
    " - [Ver etiquetas de columnas](https://pandas.pydata.org/docs/reference/api/pandas.DataFrame.columns.html)\n",
    "\n",
    " - [INCONSISTENT_BEHAVIOR_CROSS_VERSION.PARSE_DATETIME_BY_NEW_PARSER](https://community.databricks.com/t5/data-engineering/inconsistent-behavior-cross-version-parse-datetime-by-new-parser/td-p/43674)\n",
    "\n",
    " #### Apartado 5\n",
    "\n",
    " - [PySpark Explode Array and Map Columns to Rows](https://sparkbyexamples.com/pyspark/pyspark-explode-array-and-map-columns-to-rows/)\n",
    "\n",
    " - [Round Column Values](https://www.statology.org/pyspark-round-to-2-decimal-places/)\n",
    "\n",
    " - [Conditional when](https://pratikbarjatya.medium.com/mastering-pyspark-when-statement-a-comprehensive-guide-691c1f14a597)\n",
    "\n",
    " #### Apartado 6\n",
    "\n",
    " - [Filter](https://sparkbyexamples.com/pyspark/pyspark-where-filter/)\n",
    "\n",
    " - [pyspark.sql.DataFrame.orderBy](https://spark.apache.org/docs/3.1.1/api/python/reference/api/pyspark.sql.DataFrame.orderBy.html)\n",
    "\n",
    " - [First()](https://aitor-medrano.github.io/iabd2223/spark/02dataframeAPI.html#mostrando-los-datos)\n",
    "\n",
    " #### Apartado 7\n",
    "\n",
    " - [pyspark.sql.functions.min](https://spark.apache.org/docs/latest/api/python/reference/pyspark.sql/api/pyspark.sql.functions.min.html)\n",
    "\n",
    " - [PySpark – Difference between two dates (days, months, years)](https://sparkbyexamples.com/pyspark/pyspark-difference-between-two-dates-days-months-years/)"
   ]
  }
 ],
 "metadata": {
  "kernelspec": {
   "display_name": "base",
   "language": "python",
   "name": "python3"
  },
  "language_info": {
   "codemirror_mode": {
    "name": "ipython",
    "version": 3
   },
   "file_extension": ".py",
   "mimetype": "text/x-python",
   "name": "python",
   "nbconvert_exporter": "python",
   "pygments_lexer": "ipython3",
   "version": "3.10.12"
  }
 },
 "nbformat": 4,
 "nbformat_minor": 2
}
